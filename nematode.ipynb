{
 "cells": [
  {
   "cell_type": "code",
   "execution_count": 274,
   "metadata": {},
   "outputs": [],
   "source": [
    "import numpy as np\n",
    "import mpmath as mp\n",
    "import math\n",
    "from scipy.special import comb\n",
    "\n",
    "mp.dps = 50"
   ]
  },
  {
   "cell_type": "markdown",
   "metadata": {},
   "source": [
    "For $p=.5,$ the probability mass function of the binomial distribution is:\n",
    "\n",
    "\\begin{align*}\n",
    "   f(k; N\\!, p) &= {N \\choose  k} p^k (1-p)^{N-k} \\\\\n",
    "           &= {N \\choose  k} \\times .5^N \\\\\n",
    "           &= 2^{-N} {N \\choose  k}.\n",
    "\\end{align*}"
   ]
  },
  {
   "cell_type": "code",
   "execution_count": 299,
   "metadata": {},
   "outputs": [],
   "source": [
    "class BirthDistribution(object):\n",
    "    def __init__(self):\n",
    "        self._cache = dict()\n",
    "        \n",
    "    def _calculate(self, npairs):\n",
    "        d = np.empty(npairs+1, dtype=object)\n",
    "        if npairs == 1:\n",
    "            d[:] = mp.mpf(1/2)\n",
    "        else:\n",
    "            # Calculate according to Pascal's triangle, and normalize.\n",
    "            mid = (len(d) + 1) // 2\n",
    "            pred = self._cache[npairs-1]\n",
    "            d[0] = pred[0]\n",
    "            d[1:mid] = pred[0:mid-1] + pred[1:mid]\n",
    "            d[:mid] /= mp.mpf(2)\n",
    "            d[-mid:] = d[:mid][::-1]\n",
    "        self._cache[npairs] = d\n",
    "        return d\n",
    "    \n",
    "    def __call__(self, popsize):\n",
    "        npairs = popsize // 2\n",
    "        try:\n",
    "            return self._cache[npairs]\n",
    "        except:\n",
    "            return self._calculate(npairs)\n",
    "\n",
    "birth_dist = BirthDistribution()"
   ]
  },
  {
   "cell_type": "code",
   "execution_count": 276,
   "metadata": {},
   "outputs": [
    {
     "data": {
      "text/plain": [
       "array([mpf('0.5'), mpf('0.5')], dtype=object)"
      ]
     },
     "execution_count": 276,
     "metadata": {},
     "output_type": "execute_result"
    }
   ],
   "source": [
    "birth_dist(2)"
   ]
  },
  {
   "cell_type": "code",
   "execution_count": 277,
   "metadata": {},
   "outputs": [
    {
     "data": {
      "text/plain": [
       "array([mpf('0.5'), mpf('0.5')], dtype=object)"
      ]
     },
     "execution_count": 277,
     "metadata": {},
     "output_type": "execute_result"
    }
   ],
   "source": [
    "birth_dist(3)"
   ]
  },
  {
   "cell_type": "code",
   "execution_count": 278,
   "metadata": {},
   "outputs": [
    {
     "data": {
      "text/plain": [
       "array([mpf('0.25'), mpf('0.5'), mpf('0.25')], dtype=object)"
      ]
     },
     "execution_count": 278,
     "metadata": {},
     "output_type": "execute_result"
    }
   ],
   "source": [
    "birth_dist(4)"
   ]
  },
  {
   "cell_type": "code",
   "execution_count": 279,
   "metadata": {},
   "outputs": [
    {
     "data": {
      "text/plain": [
       "array([mpf('0.25'), mpf('0.5'), mpf('0.25')], dtype=object)"
      ]
     },
     "execution_count": 279,
     "metadata": {},
     "output_type": "execute_result"
    }
   ],
   "source": [
    "birth_dist(5)"
   ]
  },
  {
   "cell_type": "code",
   "execution_count": 280,
   "metadata": {},
   "outputs": [
    {
     "data": {
      "text/plain": [
       "array([mpf('0.125'), mpf('0.375'), mpf('0.375'), mpf('0.125')],\n",
       "      dtype=object)"
      ]
     },
     "execution_count": 280,
     "metadata": {},
     "output_type": "execute_result"
    }
   ],
   "source": [
    "birth_dist(6)"
   ]
  },
  {
   "cell_type": "code",
   "execution_count": 281,
   "metadata": {},
   "outputs": [],
   "source": [
    "def next_dist(popdist):\n",
    "    maxbirths = (len(popdist) - 1) // 2\n",
    "    result = np.empty(len(popdist) + maxbirths, dtype=object)\n",
    "    result[:] = mp.mpf(0)\n",
    "    for popsize, prob in enumerate(popdist):\n",
    "        if prob > 0:\n",
    "            d = prob * birth_dist(popsize)\n",
    "            result[popsize:popsize+len(d)] += d\n",
    "    return result"
   ]
  },
  {
   "cell_type": "code",
   "execution_count": 282,
   "metadata": {},
   "outputs": [
    {
     "data": {
      "text/plain": [
       "array([mpf('0.0'), mpf('0.0'), mpf('1.0')], dtype=object)"
      ]
     },
     "execution_count": 282,
     "metadata": {},
     "output_type": "execute_result"
    }
   ],
   "source": [
    "init_dist = np.array([mp.mpf(0), mp.mpf(0), mp.mpf(1)])\n",
    "init_dist"
   ]
  },
  {
   "cell_type": "code",
   "execution_count": 283,
   "metadata": {},
   "outputs": [
    {
     "data": {
      "text/plain": [
       "array([mpf('0.0'), mpf('0.0'), mpf('0.5'), mpf('0.5')], dtype=object)"
      ]
     },
     "execution_count": 283,
     "metadata": {},
     "output_type": "execute_result"
    }
   ],
   "source": [
    "next_dist(init_dist)"
   ]
  },
  {
   "cell_type": "code",
   "execution_count": 284,
   "metadata": {},
   "outputs": [
    {
     "data": {
      "text/plain": [
       "array([mpf('0.0'), mpf('0.0'), mpf('0.25'), mpf('0.5'), mpf('0.25')],\n",
       "      dtype=object)"
      ]
     },
     "execution_count": 284,
     "metadata": {},
     "output_type": "execute_result"
    }
   ],
   "source": [
    "next_dist(next_dist(init_dist))"
   ]
  },
  {
   "cell_type": "code",
   "execution_count": 327,
   "metadata": {},
   "outputs": [],
   "source": [
    "def power(popsize, exponent):\n",
    "    dist = np.empty(exponent+1, dtype=object)\n",
    "    dist[0] = np.empty(popsize+1, dtype=object)\n",
    "    dist[0][:popsize] = mp.mpf(0)\n",
    "    dist[0][popsize] = mp.mpf(1)\n",
    "    exp_popsize = np.empty_like(dist)\n",
    "    exp_popsize[0] = mp.mpf(popsize)\n",
    "    for i in range(1, exponent+1):\n",
    "        dist[i] = next_dist(dist[i-1])\n",
    "        exp_popsize[i] = mp.fsum(dist[i] * range(len(dist[i])))\n",
    "    return dist, exp_popsize"
   ]
  },
  {
   "cell_type": "code",
   "execution_count": 328,
   "metadata": {},
   "outputs": [
    {
     "data": {
      "text/plain": [
       "(array([array([mpf('0.0'), mpf('0.0'), mpf('1.0')], dtype=object)],\n",
       "       dtype=object),\n",
       " array([mpf('2.0')], dtype=object))"
      ]
     },
     "execution_count": 328,
     "metadata": {},
     "output_type": "execute_result"
    }
   ],
   "source": [
    "power(2, 0)"
   ]
  },
  {
   "cell_type": "code",
   "execution_count": 286,
   "metadata": {},
   "outputs": [
    {
     "data": {
      "text/plain": [
       "(array([array([mpf('0.0'), mpf('0.0'), mpf('1.0')], dtype=object),\n",
       "        array([mpf('0.0'), mpf('0.0'), mpf('0.5'), mpf('0.5')], dtype=object)],\n",
       "       dtype=object),\n",
       " array([mpf('2.0'), mpf('2.5')], dtype=object))"
      ]
     },
     "execution_count": 286,
     "metadata": {},
     "output_type": "execute_result"
    }
   ],
   "source": [
    "power(2, 1)"
   ]
  },
  {
   "cell_type": "code",
   "execution_count": 287,
   "metadata": {},
   "outputs": [
    {
     "data": {
      "text/plain": [
       "(array([array([mpf('0.0'), mpf('0.0'), mpf('1.0')], dtype=object),\n",
       "        array([mpf('0.0'), mpf('0.0'), mpf('0.5'), mpf('0.5')], dtype=object),\n",
       "        array([mpf('0.0'), mpf('0.0'), mpf('0.25'), mpf('0.5'), mpf('0.25')],\n",
       "       dtype=object)], dtype=object),\n",
       " array([mpf('2.0'), mpf('2.5'), mpf('3.0')], dtype=object))"
      ]
     },
     "execution_count": 287,
     "metadata": {},
     "output_type": "execute_result"
    }
   ],
   "source": [
    "power(2, 2)"
   ]
  },
  {
   "cell_type": "code",
   "execution_count": 288,
   "metadata": {},
   "outputs": [
    {
     "data": {
      "text/plain": [
       "(array([array([mpf('0.0'), mpf('0.0'), mpf('1.0')], dtype=object),\n",
       "        array([mpf('0.0'), mpf('0.0'), mpf('0.5'), mpf('0.5')], dtype=object),\n",
       "        array([mpf('0.0'), mpf('0.0'), mpf('0.25'), mpf('0.5'), mpf('0.25')],\n",
       "       dtype=object),\n",
       "        array([mpf('0.0'), mpf('0.0'), mpf('0.125'), mpf('0.375'), mpf('0.3125'),\n",
       "        mpf('0.125'), mpf('0.0625')], dtype=object)], dtype=object),\n",
       " array([mpf('2.0'), mpf('2.5'), mpf('3.0'), mpf('3.625')], dtype=object))"
      ]
     },
     "execution_count": 288,
     "metadata": {},
     "output_type": "execute_result"
    }
   ],
   "source": [
    "power(2, 3)"
   ]
  },
  {
   "cell_type": "code",
   "execution_count": 289,
   "metadata": {},
   "outputs": [
    {
     "data": {
      "text/plain": [
       "(array([array([mpf('0.0'), mpf('0.0'), mpf('1.0')], dtype=object),\n",
       "        array([mpf('0.0'), mpf('0.0'), mpf('0.5'), mpf('0.5')], dtype=object),\n",
       "        array([mpf('0.0'), mpf('0.0'), mpf('0.25'), mpf('0.5'), mpf('0.25')],\n",
       "       dtype=object),\n",
       "        array([mpf('0.0'), mpf('0.0'), mpf('0.125'), mpf('0.375'), mpf('0.3125'),\n",
       "        mpf('0.125'), mpf('0.0625')], dtype=object),\n",
       "        array([mpf('0.0'), mpf('0.0'), mpf('0.0625'), mpf('0.25'),\n",
       "        mpf('0.265625'), mpf('0.1875'), mpf('0.1484375'), mpf('0.0546875'),\n",
       "        mpf('0.0234375'), mpf('0.0078125')], dtype=object)], dtype=object),\n",
       " array([mpf('2.0'), mpf('2.5'), mpf('3.0'), mpf('3.625'), mpf('4.40625')],\n",
       "       dtype=object))"
      ]
     },
     "execution_count": 289,
     "metadata": {},
     "output_type": "execute_result"
    }
   ],
   "source": [
    "power(2, 4)"
   ]
  },
  {
   "cell_type": "code",
   "execution_count": 290,
   "metadata": {},
   "outputs": [
    {
     "data": {
      "text/plain": [
       "(array([array([mpf('0.0'), mpf('0.0'), mpf('1.0')], dtype=object),\n",
       "        array([mpf('0.0'), mpf('0.0'), mpf('0.5'), mpf('0.5')], dtype=object),\n",
       "        array([mpf('0.0'), mpf('0.0'), mpf('0.25'), mpf('0.5'), mpf('0.25')],\n",
       "       dtype=object),\n",
       "        array([mpf('0.0'), mpf('0.0'), mpf('0.125'), mpf('0.375'), mpf('0.3125'),\n",
       "        mpf('0.125'), mpf('0.0625')], dtype=object),\n",
       "        array([mpf('0.0'), mpf('0.0'), mpf('0.0625'), mpf('0.25'),\n",
       "        mpf('0.265625'), mpf('0.1875'), mpf('0.1484375'), mpf('0.0546875'),\n",
       "        mpf('0.0234375'), mpf('0.0078125')], dtype=object),\n",
       "        array([mpf('0.0'), mpf('0.0'), mpf('0.03125'), mpf('0.15625'),\n",
       "        mpf('0.19140625'), mpf('0.1796875'), mpf('0.1787109375'),\n",
       "        mpf('0.109375'), mpf('0.07763671875'), mpf('0.04541015625'),\n",
       "        mpf('0.017578125'), mpf('0.0087890625'), mpf('0.00341796875'),\n",
       "        mpf('0.00048828125')], dtype=object)], dtype=object),\n",
       " array([mpf('2.0'), mpf('2.5'), mpf('3.0'), mpf('3.625'), mpf('4.40625'),\n",
       "        mpf('5.3828125')], dtype=object))"
      ]
     },
     "execution_count": 290,
     "metadata": {},
     "output_type": "execute_result"
    }
   ],
   "source": [
    "power(2, 5)"
   ]
  },
  {
   "cell_type": "code",
   "execution_count": 331,
   "metadata": {},
   "outputs": [
    {
     "data": {
      "text/plain": [
       "(array([array([mpf('0.0'), mpf('0.0'), mpf('0.0'), mpf('1.0')], dtype=object),\n",
       "        array([mpf('0.0'), mpf('0.0'), mpf('0.0'), mpf('0.5'), mpf('0.5')],\n",
       "       dtype=object),\n",
       "        array([mpf('0.0'), mpf('0.0'), mpf('0.0'), mpf('0.25'), mpf('0.375'),\n",
       "        mpf('0.25'), mpf('0.125')], dtype=object),\n",
       "        array([mpf('0.0'), mpf('0.0'), mpf('0.0'), mpf('0.125'), mpf('0.21875'),\n",
       "        mpf('0.25'), mpf('0.234375'), mpf('0.109375'), mpf('0.046875'),\n",
       "        mpf('0.015625')], dtype=object),\n",
       "        array([mpf('0.0'), mpf('0.0'), mpf('0.0'), mpf('0.0625'),\n",
       "        mpf('0.1171875'), mpf('0.171875'), mpf('0.208984375'),\n",
       "        mpf('0.1640625'), mpf('0.1318359375'), mpf('0.0830078125'),\n",
       "        mpf('0.03515625'), mpf('0.017578125'), mpf('0.0068359375'),\n",
       "        mpf('0.0009765625')], dtype=object)], dtype=object),\n",
       " array([mpf('3.0'), mpf('3.5'), mpf('4.25'), mpf('5.1875'),\n",
       "        mpf('6.359375')], dtype=object))"
      ]
     },
     "execution_count": 331,
     "metadata": {},
     "output_type": "execute_result"
    }
   ],
   "source": [
    "power(3, 4)"
   ]
  },
  {
   "cell_type": "code",
   "execution_count": 303,
   "metadata": {},
   "outputs": [
    {
     "name": "stdout",
     "output_type": "stream",
     "text": [
      "CPU times: user 1min 35s, sys: 555 ms, total: 1min 35s\n",
      "Wall time: 1min 37s\n"
     ]
    },
    {
     "data": {
      "text/plain": [
       "array([mpf('2.0'), mpf('2.5'), mpf('3.0'), mpf('3.625'), mpf('4.40625'),\n",
       "       mpf('5.3828125'), mpf('6.603515625'), mpf('8.12939453125'),\n",
       "       mpf('10.0367431640625'), mpf('12.420928955078125'),\n",
       "       mpf('15.401161193847656'), mpf('19.12645149230957'),\n",
       "       mpf('23.783064365386963'), mpf('29.603830456733704'),\n",
       "       mpf('36.87978807091713'), mpf('45.974735088646412'),\n",
       "       mpf('57.343418860808015'), mpf('71.554273576010019'),\n",
       "       mpf('89.317841970012523'), mpf('111.52230246251565'),\n",
       "       mpf('139.27787807814457')], dtype=object)"
      ]
     },
     "execution_count": 303,
     "metadata": {},
     "output_type": "execute_result"
    }
   ],
   "source": [
    "%%time\n",
    "\n",
    "dist, expected_size = power(2, 20)\n",
    "expected_size"
   ]
  },
  {
   "cell_type": "markdown",
   "metadata": {},
   "source": [
    "Observe that the expected value of $(1+1)^N$ is $2\\cdot 1.25^{N-1} + 0.5.$"
   ]
  },
  {
   "cell_type": "code",
   "execution_count": 325,
   "metadata": {},
   "outputs": [
    {
     "data": {
      "text/plain": [
       "[(2.5, mpf('2.5')),\n",
       " (3.0, mpf('3.0')),\n",
       " (3.625, mpf('3.625')),\n",
       " (4.40625, mpf('4.40625')),\n",
       " (5.3828125, mpf('5.3828125')),\n",
       " (6.603515625, mpf('6.603515625')),\n",
       " (8.12939453125, mpf('8.12939453125')),\n",
       " (10.0367431640625, mpf('10.0367431640625')),\n",
       " (12.420928955078125, mpf('12.420928955078125')),\n",
       " (15.401161193847656, mpf('15.401161193847656')),\n",
       " (19.12645149230957, mpf('19.12645149230957')),\n",
       " (23.783064365386963, mpf('23.783064365386963')),\n",
       " (29.603830456733704, mpf('29.603830456733704')),\n",
       " (36.87978807091713, mpf('36.87978807091713')),\n",
       " (45.97473508864641, mpf('45.974735088646412')),\n",
       " (57.343418860808015, mpf('57.343418860808015')),\n",
       " (71.55427357601002, mpf('71.554273576010019')),\n",
       " (89.31784197001252, mpf('89.317841970012523')),\n",
       " (111.52230246251565, mpf('111.52230246251565'))]"
      ]
     },
     "execution_count": 325,
     "metadata": {},
     "output_type": "execute_result"
    }
   ],
   "source": [
    "[p for p in zip([2 * 1.25**(k-1) + 0.5 for k in range(1,20)],\n",
    "                expected_size[1:])]"
   ]
  },
  {
   "cell_type": "code",
   "execution_count": 305,
   "metadata": {},
   "outputs": [
    {
     "data": {
      "text/plain": [
       "mpf('0.99910331836958255')"
      ]
     },
     "execution_count": 305,
     "metadata": {},
     "output_type": "execute_result"
    }
   ],
   "source": [
    "expected_size[-1] / (mp.mpf('111.52230246251565') * mp.mpf('1.25'))"
   ]
  },
  {
   "cell_type": "code",
   "execution_count": 313,
   "metadata": {},
   "outputs": [
    {
     "data": {
      "application/javascript": [
       "/* Put everything inside the global mpl namespace */\n",
       "window.mpl = {};\n",
       "\n",
       "\n",
       "mpl.get_websocket_type = function() {\n",
       "    if (typeof(WebSocket) !== 'undefined') {\n",
       "        return WebSocket;\n",
       "    } else if (typeof(MozWebSocket) !== 'undefined') {\n",
       "        return MozWebSocket;\n",
       "    } else {\n",
       "        alert('Your browser does not have WebSocket support. ' +\n",
       "              'Please try Chrome, Safari or Firefox ≥ 6. ' +\n",
       "              'Firefox 4 and 5 are also supported but you ' +\n",
       "              'have to enable WebSockets in about:config.');\n",
       "    };\n",
       "}\n",
       "\n",
       "mpl.figure = function(figure_id, websocket, ondownload, parent_element) {\n",
       "    this.id = figure_id;\n",
       "\n",
       "    this.ws = websocket;\n",
       "\n",
       "    this.supports_binary = (this.ws.binaryType != undefined);\n",
       "\n",
       "    if (!this.supports_binary) {\n",
       "        var warnings = document.getElementById(\"mpl-warnings\");\n",
       "        if (warnings) {\n",
       "            warnings.style.display = 'block';\n",
       "            warnings.textContent = (\n",
       "                \"This browser does not support binary websocket messages. \" +\n",
       "                    \"Performance may be slow.\");\n",
       "        }\n",
       "    }\n",
       "\n",
       "    this.imageObj = new Image();\n",
       "\n",
       "    this.context = undefined;\n",
       "    this.message = undefined;\n",
       "    this.canvas = undefined;\n",
       "    this.rubberband_canvas = undefined;\n",
       "    this.rubberband_context = undefined;\n",
       "    this.format_dropdown = undefined;\n",
       "\n",
       "    this.image_mode = 'full';\n",
       "\n",
       "    this.root = $('<div/>');\n",
       "    this._root_extra_style(this.root)\n",
       "    this.root.attr('style', 'display: inline-block');\n",
       "\n",
       "    $(parent_element).append(this.root);\n",
       "\n",
       "    this._init_header(this);\n",
       "    this._init_canvas(this);\n",
       "    this._init_toolbar(this);\n",
       "\n",
       "    var fig = this;\n",
       "\n",
       "    this.waiting = false;\n",
       "\n",
       "    this.ws.onopen =  function () {\n",
       "            fig.send_message(\"supports_binary\", {value: fig.supports_binary});\n",
       "            fig.send_message(\"send_image_mode\", {});\n",
       "            if (mpl.ratio != 1) {\n",
       "                fig.send_message(\"set_dpi_ratio\", {'dpi_ratio': mpl.ratio});\n",
       "            }\n",
       "            fig.send_message(\"refresh\", {});\n",
       "        }\n",
       "\n",
       "    this.imageObj.onload = function() {\n",
       "            if (fig.image_mode == 'full') {\n",
       "                // Full images could contain transparency (where diff images\n",
       "                // almost always do), so we need to clear the canvas so that\n",
       "                // there is no ghosting.\n",
       "                fig.context.clearRect(0, 0, fig.canvas.width, fig.canvas.height);\n",
       "            }\n",
       "            fig.context.drawImage(fig.imageObj, 0, 0);\n",
       "        };\n",
       "\n",
       "    this.imageObj.onunload = function() {\n",
       "        fig.ws.close();\n",
       "    }\n",
       "\n",
       "    this.ws.onmessage = this._make_on_message_function(this);\n",
       "\n",
       "    this.ondownload = ondownload;\n",
       "}\n",
       "\n",
       "mpl.figure.prototype._init_header = function() {\n",
       "    var titlebar = $(\n",
       "        '<div class=\"ui-dialog-titlebar ui-widget-header ui-corner-all ' +\n",
       "        'ui-helper-clearfix\"/>');\n",
       "    var titletext = $(\n",
       "        '<div class=\"ui-dialog-title\" style=\"width: 100%; ' +\n",
       "        'text-align: center; padding: 3px;\"/>');\n",
       "    titlebar.append(titletext)\n",
       "    this.root.append(titlebar);\n",
       "    this.header = titletext[0];\n",
       "}\n",
       "\n",
       "\n",
       "\n",
       "mpl.figure.prototype._canvas_extra_style = function(canvas_div) {\n",
       "\n",
       "}\n",
       "\n",
       "\n",
       "mpl.figure.prototype._root_extra_style = function(canvas_div) {\n",
       "\n",
       "}\n",
       "\n",
       "mpl.figure.prototype._init_canvas = function() {\n",
       "    var fig = this;\n",
       "\n",
       "    var canvas_div = $('<div/>');\n",
       "\n",
       "    canvas_div.attr('style', 'position: relative; clear: both; outline: 0');\n",
       "\n",
       "    function canvas_keyboard_event(event) {\n",
       "        return fig.key_event(event, event['data']);\n",
       "    }\n",
       "\n",
       "    canvas_div.keydown('key_press', canvas_keyboard_event);\n",
       "    canvas_div.keyup('key_release', canvas_keyboard_event);\n",
       "    this.canvas_div = canvas_div\n",
       "    this._canvas_extra_style(canvas_div)\n",
       "    this.root.append(canvas_div);\n",
       "\n",
       "    var canvas = $('<canvas/>');\n",
       "    canvas.addClass('mpl-canvas');\n",
       "    canvas.attr('style', \"left: 0; top: 0; z-index: 0; outline: 0\")\n",
       "\n",
       "    this.canvas = canvas[0];\n",
       "    this.context = canvas[0].getContext(\"2d\");\n",
       "\n",
       "    var backingStore = this.context.backingStorePixelRatio ||\n",
       "\tthis.context.webkitBackingStorePixelRatio ||\n",
       "\tthis.context.mozBackingStorePixelRatio ||\n",
       "\tthis.context.msBackingStorePixelRatio ||\n",
       "\tthis.context.oBackingStorePixelRatio ||\n",
       "\tthis.context.backingStorePixelRatio || 1;\n",
       "\n",
       "    mpl.ratio = (window.devicePixelRatio || 1) / backingStore;\n",
       "\n",
       "    var rubberband = $('<canvas/>');\n",
       "    rubberband.attr('style', \"position: absolute; left: 0; top: 0; z-index: 1;\")\n",
       "\n",
       "    var pass_mouse_events = true;\n",
       "\n",
       "    canvas_div.resizable({\n",
       "        start: function(event, ui) {\n",
       "            pass_mouse_events = false;\n",
       "        },\n",
       "        resize: function(event, ui) {\n",
       "            fig.request_resize(ui.size.width, ui.size.height);\n",
       "        },\n",
       "        stop: function(event, ui) {\n",
       "            pass_mouse_events = true;\n",
       "            fig.request_resize(ui.size.width, ui.size.height);\n",
       "        },\n",
       "    });\n",
       "\n",
       "    function mouse_event_fn(event) {\n",
       "        if (pass_mouse_events)\n",
       "            return fig.mouse_event(event, event['data']);\n",
       "    }\n",
       "\n",
       "    rubberband.mousedown('button_press', mouse_event_fn);\n",
       "    rubberband.mouseup('button_release', mouse_event_fn);\n",
       "    // Throttle sequential mouse events to 1 every 20ms.\n",
       "    rubberband.mousemove('motion_notify', mouse_event_fn);\n",
       "\n",
       "    rubberband.mouseenter('figure_enter', mouse_event_fn);\n",
       "    rubberband.mouseleave('figure_leave', mouse_event_fn);\n",
       "\n",
       "    canvas_div.on(\"wheel\", function (event) {\n",
       "        event = event.originalEvent;\n",
       "        event['data'] = 'scroll'\n",
       "        if (event.deltaY < 0) {\n",
       "            event.step = 1;\n",
       "        } else {\n",
       "            event.step = -1;\n",
       "        }\n",
       "        mouse_event_fn(event);\n",
       "    });\n",
       "\n",
       "    canvas_div.append(canvas);\n",
       "    canvas_div.append(rubberband);\n",
       "\n",
       "    this.rubberband = rubberband;\n",
       "    this.rubberband_canvas = rubberband[0];\n",
       "    this.rubberband_context = rubberband[0].getContext(\"2d\");\n",
       "    this.rubberband_context.strokeStyle = \"#000000\";\n",
       "\n",
       "    this._resize_canvas = function(width, height) {\n",
       "        // Keep the size of the canvas, canvas container, and rubber band\n",
       "        // canvas in synch.\n",
       "        canvas_div.css('width', width)\n",
       "        canvas_div.css('height', height)\n",
       "\n",
       "        canvas.attr('width', width * mpl.ratio);\n",
       "        canvas.attr('height', height * mpl.ratio);\n",
       "        canvas.attr('style', 'width: ' + width + 'px; height: ' + height + 'px;');\n",
       "\n",
       "        rubberband.attr('width', width);\n",
       "        rubberband.attr('height', height);\n",
       "    }\n",
       "\n",
       "    // Set the figure to an initial 600x600px, this will subsequently be updated\n",
       "    // upon first draw.\n",
       "    this._resize_canvas(600, 600);\n",
       "\n",
       "    // Disable right mouse context menu.\n",
       "    $(this.rubberband_canvas).bind(\"contextmenu\",function(e){\n",
       "        return false;\n",
       "    });\n",
       "\n",
       "    function set_focus () {\n",
       "        canvas.focus();\n",
       "        canvas_div.focus();\n",
       "    }\n",
       "\n",
       "    window.setTimeout(set_focus, 100);\n",
       "}\n",
       "\n",
       "mpl.figure.prototype._init_toolbar = function() {\n",
       "    var fig = this;\n",
       "\n",
       "    var nav_element = $('<div/>');\n",
       "    nav_element.attr('style', 'width: 100%');\n",
       "    this.root.append(nav_element);\n",
       "\n",
       "    // Define a callback function for later on.\n",
       "    function toolbar_event(event) {\n",
       "        return fig.toolbar_button_onclick(event['data']);\n",
       "    }\n",
       "    function toolbar_mouse_event(event) {\n",
       "        return fig.toolbar_button_onmouseover(event['data']);\n",
       "    }\n",
       "\n",
       "    for(var toolbar_ind in mpl.toolbar_items) {\n",
       "        var name = mpl.toolbar_items[toolbar_ind][0];\n",
       "        var tooltip = mpl.toolbar_items[toolbar_ind][1];\n",
       "        var image = mpl.toolbar_items[toolbar_ind][2];\n",
       "        var method_name = mpl.toolbar_items[toolbar_ind][3];\n",
       "\n",
       "        if (!name) {\n",
       "            // put a spacer in here.\n",
       "            continue;\n",
       "        }\n",
       "        var button = $('<button/>');\n",
       "        button.addClass('ui-button ui-widget ui-state-default ui-corner-all ' +\n",
       "                        'ui-button-icon-only');\n",
       "        button.attr('role', 'button');\n",
       "        button.attr('aria-disabled', 'false');\n",
       "        button.click(method_name, toolbar_event);\n",
       "        button.mouseover(tooltip, toolbar_mouse_event);\n",
       "\n",
       "        var icon_img = $('<span/>');\n",
       "        icon_img.addClass('ui-button-icon-primary ui-icon');\n",
       "        icon_img.addClass(image);\n",
       "        icon_img.addClass('ui-corner-all');\n",
       "\n",
       "        var tooltip_span = $('<span/>');\n",
       "        tooltip_span.addClass('ui-button-text');\n",
       "        tooltip_span.html(tooltip);\n",
       "\n",
       "        button.append(icon_img);\n",
       "        button.append(tooltip_span);\n",
       "\n",
       "        nav_element.append(button);\n",
       "    }\n",
       "\n",
       "    var fmt_picker_span = $('<span/>');\n",
       "\n",
       "    var fmt_picker = $('<select/>');\n",
       "    fmt_picker.addClass('mpl-toolbar-option ui-widget ui-widget-content');\n",
       "    fmt_picker_span.append(fmt_picker);\n",
       "    nav_element.append(fmt_picker_span);\n",
       "    this.format_dropdown = fmt_picker[0];\n",
       "\n",
       "    for (var ind in mpl.extensions) {\n",
       "        var fmt = mpl.extensions[ind];\n",
       "        var option = $(\n",
       "            '<option/>', {selected: fmt === mpl.default_extension}).html(fmt);\n",
       "        fmt_picker.append(option);\n",
       "    }\n",
       "\n",
       "    // Add hover states to the ui-buttons\n",
       "    $( \".ui-button\" ).hover(\n",
       "        function() { $(this).addClass(\"ui-state-hover\");},\n",
       "        function() { $(this).removeClass(\"ui-state-hover\");}\n",
       "    );\n",
       "\n",
       "    var status_bar = $('<span class=\"mpl-message\"/>');\n",
       "    nav_element.append(status_bar);\n",
       "    this.message = status_bar[0];\n",
       "}\n",
       "\n",
       "mpl.figure.prototype.request_resize = function(x_pixels, y_pixels) {\n",
       "    // Request matplotlib to resize the figure. Matplotlib will then trigger a resize in the client,\n",
       "    // which will in turn request a refresh of the image.\n",
       "    this.send_message('resize', {'width': x_pixels, 'height': y_pixels});\n",
       "}\n",
       "\n",
       "mpl.figure.prototype.send_message = function(type, properties) {\n",
       "    properties['type'] = type;\n",
       "    properties['figure_id'] = this.id;\n",
       "    this.ws.send(JSON.stringify(properties));\n",
       "}\n",
       "\n",
       "mpl.figure.prototype.send_draw_message = function() {\n",
       "    if (!this.waiting) {\n",
       "        this.waiting = true;\n",
       "        this.ws.send(JSON.stringify({type: \"draw\", figure_id: this.id}));\n",
       "    }\n",
       "}\n",
       "\n",
       "\n",
       "mpl.figure.prototype.handle_save = function(fig, msg) {\n",
       "    var format_dropdown = fig.format_dropdown;\n",
       "    var format = format_dropdown.options[format_dropdown.selectedIndex].value;\n",
       "    fig.ondownload(fig, format);\n",
       "}\n",
       "\n",
       "\n",
       "mpl.figure.prototype.handle_resize = function(fig, msg) {\n",
       "    var size = msg['size'];\n",
       "    if (size[0] != fig.canvas.width || size[1] != fig.canvas.height) {\n",
       "        fig._resize_canvas(size[0], size[1]);\n",
       "        fig.send_message(\"refresh\", {});\n",
       "    };\n",
       "}\n",
       "\n",
       "mpl.figure.prototype.handle_rubberband = function(fig, msg) {\n",
       "    var x0 = msg['x0'] / mpl.ratio;\n",
       "    var y0 = (fig.canvas.height - msg['y0']) / mpl.ratio;\n",
       "    var x1 = msg['x1'] / mpl.ratio;\n",
       "    var y1 = (fig.canvas.height - msg['y1']) / mpl.ratio;\n",
       "    x0 = Math.floor(x0) + 0.5;\n",
       "    y0 = Math.floor(y0) + 0.5;\n",
       "    x1 = Math.floor(x1) + 0.5;\n",
       "    y1 = Math.floor(y1) + 0.5;\n",
       "    var min_x = Math.min(x0, x1);\n",
       "    var min_y = Math.min(y0, y1);\n",
       "    var width = Math.abs(x1 - x0);\n",
       "    var height = Math.abs(y1 - y0);\n",
       "\n",
       "    fig.rubberband_context.clearRect(\n",
       "        0, 0, fig.canvas.width / mpl.ratio, fig.canvas.height / mpl.ratio);\n",
       "\n",
       "    fig.rubberband_context.strokeRect(min_x, min_y, width, height);\n",
       "}\n",
       "\n",
       "mpl.figure.prototype.handle_figure_label = function(fig, msg) {\n",
       "    // Updates the figure title.\n",
       "    fig.header.textContent = msg['label'];\n",
       "}\n",
       "\n",
       "mpl.figure.prototype.handle_cursor = function(fig, msg) {\n",
       "    var cursor = msg['cursor'];\n",
       "    switch(cursor)\n",
       "    {\n",
       "    case 0:\n",
       "        cursor = 'pointer';\n",
       "        break;\n",
       "    case 1:\n",
       "        cursor = 'default';\n",
       "        break;\n",
       "    case 2:\n",
       "        cursor = 'crosshair';\n",
       "        break;\n",
       "    case 3:\n",
       "        cursor = 'move';\n",
       "        break;\n",
       "    }\n",
       "    fig.rubberband_canvas.style.cursor = cursor;\n",
       "}\n",
       "\n",
       "mpl.figure.prototype.handle_message = function(fig, msg) {\n",
       "    fig.message.textContent = msg['message'];\n",
       "}\n",
       "\n",
       "mpl.figure.prototype.handle_draw = function(fig, msg) {\n",
       "    // Request the server to send over a new figure.\n",
       "    fig.send_draw_message();\n",
       "}\n",
       "\n",
       "mpl.figure.prototype.handle_image_mode = function(fig, msg) {\n",
       "    fig.image_mode = msg['mode'];\n",
       "}\n",
       "\n",
       "mpl.figure.prototype.updated_canvas_event = function() {\n",
       "    // Called whenever the canvas gets updated.\n",
       "    this.send_message(\"ack\", {});\n",
       "}\n",
       "\n",
       "// A function to construct a web socket function for onmessage handling.\n",
       "// Called in the figure constructor.\n",
       "mpl.figure.prototype._make_on_message_function = function(fig) {\n",
       "    return function socket_on_message(evt) {\n",
       "        if (evt.data instanceof Blob) {\n",
       "            /* FIXME: We get \"Resource interpreted as Image but\n",
       "             * transferred with MIME type text/plain:\" errors on\n",
       "             * Chrome.  But how to set the MIME type?  It doesn't seem\n",
       "             * to be part of the websocket stream */\n",
       "            evt.data.type = \"image/png\";\n",
       "\n",
       "            /* Free the memory for the previous frames */\n",
       "            if (fig.imageObj.src) {\n",
       "                (window.URL || window.webkitURL).revokeObjectURL(\n",
       "                    fig.imageObj.src);\n",
       "            }\n",
       "\n",
       "            fig.imageObj.src = (window.URL || window.webkitURL).createObjectURL(\n",
       "                evt.data);\n",
       "            fig.updated_canvas_event();\n",
       "            fig.waiting = false;\n",
       "            return;\n",
       "        }\n",
       "        else if (typeof evt.data === 'string' && evt.data.slice(0, 21) == \"data:image/png;base64\") {\n",
       "            fig.imageObj.src = evt.data;\n",
       "            fig.updated_canvas_event();\n",
       "            fig.waiting = false;\n",
       "            return;\n",
       "        }\n",
       "\n",
       "        var msg = JSON.parse(evt.data);\n",
       "        var msg_type = msg['type'];\n",
       "\n",
       "        // Call the  \"handle_{type}\" callback, which takes\n",
       "        // the figure and JSON message as its only arguments.\n",
       "        try {\n",
       "            var callback = fig[\"handle_\" + msg_type];\n",
       "        } catch (e) {\n",
       "            console.log(\"No handler for the '\" + msg_type + \"' message type: \", msg);\n",
       "            return;\n",
       "        }\n",
       "\n",
       "        if (callback) {\n",
       "            try {\n",
       "                // console.log(\"Handling '\" + msg_type + \"' message: \", msg);\n",
       "                callback(fig, msg);\n",
       "            } catch (e) {\n",
       "                console.log(\"Exception inside the 'handler_\" + msg_type + \"' callback:\", e, e.stack, msg);\n",
       "            }\n",
       "        }\n",
       "    };\n",
       "}\n",
       "\n",
       "// from http://stackoverflow.com/questions/1114465/getting-mouse-location-in-canvas\n",
       "mpl.findpos = function(e) {\n",
       "    //this section is from http://www.quirksmode.org/js/events_properties.html\n",
       "    var targ;\n",
       "    if (!e)\n",
       "        e = window.event;\n",
       "    if (e.target)\n",
       "        targ = e.target;\n",
       "    else if (e.srcElement)\n",
       "        targ = e.srcElement;\n",
       "    if (targ.nodeType == 3) // defeat Safari bug\n",
       "        targ = targ.parentNode;\n",
       "\n",
       "    // jQuery normalizes the pageX and pageY\n",
       "    // pageX,Y are the mouse positions relative to the document\n",
       "    // offset() returns the position of the element relative to the document\n",
       "    var x = e.pageX - $(targ).offset().left;\n",
       "    var y = e.pageY - $(targ).offset().top;\n",
       "\n",
       "    return {\"x\": x, \"y\": y};\n",
       "};\n",
       "\n",
       "/*\n",
       " * return a copy of an object with only non-object keys\n",
       " * we need this to avoid circular references\n",
       " * http://stackoverflow.com/a/24161582/3208463\n",
       " */\n",
       "function simpleKeys (original) {\n",
       "  return Object.keys(original).reduce(function (obj, key) {\n",
       "    if (typeof original[key] !== 'object')\n",
       "        obj[key] = original[key]\n",
       "    return obj;\n",
       "  }, {});\n",
       "}\n",
       "\n",
       "mpl.figure.prototype.mouse_event = function(event, name) {\n",
       "    var canvas_pos = mpl.findpos(event)\n",
       "\n",
       "    if (name === 'button_press')\n",
       "    {\n",
       "        this.canvas.focus();\n",
       "        this.canvas_div.focus();\n",
       "    }\n",
       "\n",
       "    var x = canvas_pos.x * mpl.ratio;\n",
       "    var y = canvas_pos.y * mpl.ratio;\n",
       "\n",
       "    this.send_message(name, {x: x, y: y, button: event.button,\n",
       "                             step: event.step,\n",
       "                             guiEvent: simpleKeys(event)});\n",
       "\n",
       "    /* This prevents the web browser from automatically changing to\n",
       "     * the text insertion cursor when the button is pressed.  We want\n",
       "     * to control all of the cursor setting manually through the\n",
       "     * 'cursor' event from matplotlib */\n",
       "    event.preventDefault();\n",
       "    return false;\n",
       "}\n",
       "\n",
       "mpl.figure.prototype._key_event_extra = function(event, name) {\n",
       "    // Handle any extra behaviour associated with a key event\n",
       "}\n",
       "\n",
       "mpl.figure.prototype.key_event = function(event, name) {\n",
       "\n",
       "    // Prevent repeat events\n",
       "    if (name == 'key_press')\n",
       "    {\n",
       "        if (event.which === this._key)\n",
       "            return;\n",
       "        else\n",
       "            this._key = event.which;\n",
       "    }\n",
       "    if (name == 'key_release')\n",
       "        this._key = null;\n",
       "\n",
       "    var value = '';\n",
       "    if (event.ctrlKey && event.which != 17)\n",
       "        value += \"ctrl+\";\n",
       "    if (event.altKey && event.which != 18)\n",
       "        value += \"alt+\";\n",
       "    if (event.shiftKey && event.which != 16)\n",
       "        value += \"shift+\";\n",
       "\n",
       "    value += 'k';\n",
       "    value += event.which.toString();\n",
       "\n",
       "    this._key_event_extra(event, name);\n",
       "\n",
       "    this.send_message(name, {key: value,\n",
       "                             guiEvent: simpleKeys(event)});\n",
       "    return false;\n",
       "}\n",
       "\n",
       "mpl.figure.prototype.toolbar_button_onclick = function(name) {\n",
       "    if (name == 'download') {\n",
       "        this.handle_save(this, null);\n",
       "    } else {\n",
       "        this.send_message(\"toolbar_button\", {name: name});\n",
       "    }\n",
       "};\n",
       "\n",
       "mpl.figure.prototype.toolbar_button_onmouseover = function(tooltip) {\n",
       "    this.message.textContent = tooltip;\n",
       "};\n",
       "mpl.toolbar_items = [[\"Home\", \"Reset original view\", \"fa fa-home icon-home\", \"home\"], [\"Back\", \"Back to previous view\", \"fa fa-arrow-left icon-arrow-left\", \"back\"], [\"Forward\", \"Forward to next view\", \"fa fa-arrow-right icon-arrow-right\", \"forward\"], [\"\", \"\", \"\", \"\"], [\"Pan\", \"Pan axes with left mouse, zoom with right\", \"fa fa-arrows icon-move\", \"pan\"], [\"Zoom\", \"Zoom to rectangle\", \"fa fa-square-o icon-check-empty\", \"zoom\"], [\"\", \"\", \"\", \"\"], [\"Download\", \"Download plot\", \"fa fa-floppy-o icon-save\", \"download\"]];\n",
       "\n",
       "mpl.extensions = [\"eps\", \"jpeg\", \"pdf\", \"png\", \"ps\", \"raw\", \"svg\", \"tif\"];\n",
       "\n",
       "mpl.default_extension = \"png\";var comm_websocket_adapter = function(comm) {\n",
       "    // Create a \"websocket\"-like object which calls the given IPython comm\n",
       "    // object with the appropriate methods. Currently this is a non binary\n",
       "    // socket, so there is still some room for performance tuning.\n",
       "    var ws = {};\n",
       "\n",
       "    ws.close = function() {\n",
       "        comm.close()\n",
       "    };\n",
       "    ws.send = function(m) {\n",
       "        //console.log('sending', m);\n",
       "        comm.send(m);\n",
       "    };\n",
       "    // Register the callback with on_msg.\n",
       "    comm.on_msg(function(msg) {\n",
       "        //console.log('receiving', msg['content']['data'], msg);\n",
       "        // Pass the mpl event to the overridden (by mpl) onmessage function.\n",
       "        ws.onmessage(msg['content']['data'])\n",
       "    });\n",
       "    return ws;\n",
       "}\n",
       "\n",
       "mpl.mpl_figure_comm = function(comm, msg) {\n",
       "    // This is the function which gets called when the mpl process\n",
       "    // starts-up an IPython Comm through the \"matplotlib\" channel.\n",
       "\n",
       "    var id = msg.content.data.id;\n",
       "    // Get hold of the div created by the display call when the Comm\n",
       "    // socket was opened in Python.\n",
       "    var element = $(\"#\" + id);\n",
       "    var ws_proxy = comm_websocket_adapter(comm)\n",
       "\n",
       "    function ondownload(figure, format) {\n",
       "        window.open(figure.imageObj.src);\n",
       "    }\n",
       "\n",
       "    var fig = new mpl.figure(id, ws_proxy,\n",
       "                           ondownload,\n",
       "                           element.get(0));\n",
       "\n",
       "    // Call onopen now - mpl needs it, as it is assuming we've passed it a real\n",
       "    // web socket which is closed, not our websocket->open comm proxy.\n",
       "    ws_proxy.onopen();\n",
       "\n",
       "    fig.parent_element = element.get(0);\n",
       "    fig.cell_info = mpl.find_output_cell(\"<div id='\" + id + \"'></div>\");\n",
       "    if (!fig.cell_info) {\n",
       "        console.error(\"Failed to find cell for figure\", id, fig);\n",
       "        return;\n",
       "    }\n",
       "\n",
       "    var output_index = fig.cell_info[2]\n",
       "    var cell = fig.cell_info[0];\n",
       "\n",
       "};\n",
       "\n",
       "mpl.figure.prototype.handle_close = function(fig, msg) {\n",
       "    var width = fig.canvas.width/mpl.ratio\n",
       "    fig.root.unbind('remove')\n",
       "\n",
       "    // Update the output cell to use the data from the current canvas.\n",
       "    fig.push_to_output();\n",
       "    var dataURL = fig.canvas.toDataURL();\n",
       "    // Re-enable the keyboard manager in IPython - without this line, in FF,\n",
       "    // the notebook keyboard shortcuts fail.\n",
       "    IPython.keyboard_manager.enable()\n",
       "    $(fig.parent_element).html('<img src=\"' + dataURL + '\" width=\"' + width + '\">');\n",
       "    fig.close_ws(fig, msg);\n",
       "}\n",
       "\n",
       "mpl.figure.prototype.close_ws = function(fig, msg){\n",
       "    fig.send_message('closing', msg);\n",
       "    // fig.ws.close()\n",
       "}\n",
       "\n",
       "mpl.figure.prototype.push_to_output = function(remove_interactive) {\n",
       "    // Turn the data on the canvas into data in the output cell.\n",
       "    var width = this.canvas.width/mpl.ratio\n",
       "    var dataURL = this.canvas.toDataURL();\n",
       "    this.cell_info[1]['text/html'] = '<img src=\"' + dataURL + '\" width=\"' + width + '\">';\n",
       "}\n",
       "\n",
       "mpl.figure.prototype.updated_canvas_event = function() {\n",
       "    // Tell IPython that the notebook contents must change.\n",
       "    IPython.notebook.set_dirty(true);\n",
       "    this.send_message(\"ack\", {});\n",
       "    var fig = this;\n",
       "    // Wait a second, then push the new image to the DOM so\n",
       "    // that it is saved nicely (might be nice to debounce this).\n",
       "    setTimeout(function () { fig.push_to_output() }, 1000);\n",
       "}\n",
       "\n",
       "mpl.figure.prototype._init_toolbar = function() {\n",
       "    var fig = this;\n",
       "\n",
       "    var nav_element = $('<div/>');\n",
       "    nav_element.attr('style', 'width: 100%');\n",
       "    this.root.append(nav_element);\n",
       "\n",
       "    // Define a callback function for later on.\n",
       "    function toolbar_event(event) {\n",
       "        return fig.toolbar_button_onclick(event['data']);\n",
       "    }\n",
       "    function toolbar_mouse_event(event) {\n",
       "        return fig.toolbar_button_onmouseover(event['data']);\n",
       "    }\n",
       "\n",
       "    for(var toolbar_ind in mpl.toolbar_items){\n",
       "        var name = mpl.toolbar_items[toolbar_ind][0];\n",
       "        var tooltip = mpl.toolbar_items[toolbar_ind][1];\n",
       "        var image = mpl.toolbar_items[toolbar_ind][2];\n",
       "        var method_name = mpl.toolbar_items[toolbar_ind][3];\n",
       "\n",
       "        if (!name) { continue; };\n",
       "\n",
       "        var button = $('<button class=\"btn btn-default\" href=\"#\" title=\"' + name + '\"><i class=\"fa ' + image + ' fa-lg\"></i></button>');\n",
       "        button.click(method_name, toolbar_event);\n",
       "        button.mouseover(tooltip, toolbar_mouse_event);\n",
       "        nav_element.append(button);\n",
       "    }\n",
       "\n",
       "    // Add the status bar.\n",
       "    var status_bar = $('<span class=\"mpl-message\" style=\"text-align:right; float: right;\"/>');\n",
       "    nav_element.append(status_bar);\n",
       "    this.message = status_bar[0];\n",
       "\n",
       "    // Add the close button to the window.\n",
       "    var buttongrp = $('<div class=\"btn-group inline pull-right\"></div>');\n",
       "    var button = $('<button class=\"btn btn-mini btn-primary\" href=\"#\" title=\"Stop Interaction\"><i class=\"fa fa-power-off icon-remove icon-large\"></i></button>');\n",
       "    button.click(function (evt) { fig.handle_close(fig, {}); } );\n",
       "    button.mouseover('Stop Interaction', toolbar_mouse_event);\n",
       "    buttongrp.append(button);\n",
       "    var titlebar = this.root.find($('.ui-dialog-titlebar'));\n",
       "    titlebar.prepend(buttongrp);\n",
       "}\n",
       "\n",
       "mpl.figure.prototype._root_extra_style = function(el){\n",
       "    var fig = this\n",
       "    el.on(\"remove\", function(){\n",
       "\tfig.close_ws(fig, {});\n",
       "    });\n",
       "}\n",
       "\n",
       "mpl.figure.prototype._canvas_extra_style = function(el){\n",
       "    // this is important to make the div 'focusable\n",
       "    el.attr('tabindex', 0)\n",
       "    // reach out to IPython and tell the keyboard manager to turn it's self\n",
       "    // off when our div gets focus\n",
       "\n",
       "    // location in version 3\n",
       "    if (IPython.notebook.keyboard_manager) {\n",
       "        IPython.notebook.keyboard_manager.register_events(el);\n",
       "    }\n",
       "    else {\n",
       "        // location in version 2\n",
       "        IPython.keyboard_manager.register_events(el);\n",
       "    }\n",
       "\n",
       "}\n",
       "\n",
       "mpl.figure.prototype._key_event_extra = function(event, name) {\n",
       "    var manager = IPython.notebook.keyboard_manager;\n",
       "    if (!manager)\n",
       "        manager = IPython.keyboard_manager;\n",
       "\n",
       "    // Check for shift+enter\n",
       "    if (event.shiftKey && event.which == 13) {\n",
       "        this.canvas_div.blur();\n",
       "        // select the cell after this one\n",
       "        var index = IPython.notebook.find_cell_index(this.cell_info[0]);\n",
       "        IPython.notebook.select(index + 1);\n",
       "    }\n",
       "}\n",
       "\n",
       "mpl.figure.prototype.handle_save = function(fig, msg) {\n",
       "    fig.ondownload(fig, null);\n",
       "}\n",
       "\n",
       "\n",
       "mpl.find_output_cell = function(html_output) {\n",
       "    // Return the cell and output element which can be found *uniquely* in the notebook.\n",
       "    // Note - this is a bit hacky, but it is done because the \"notebook_saving.Notebook\"\n",
       "    // IPython event is triggered only after the cells have been serialised, which for\n",
       "    // our purposes (turning an active figure into a static one), is too late.\n",
       "    var cells = IPython.notebook.get_cells();\n",
       "    var ncells = cells.length;\n",
       "    for (var i=0; i<ncells; i++) {\n",
       "        var cell = cells[i];\n",
       "        if (cell.cell_type === 'code'){\n",
       "            for (var j=0; j<cell.output_area.outputs.length; j++) {\n",
       "                var data = cell.output_area.outputs[j];\n",
       "                if (data.data) {\n",
       "                    // IPython >= 3 moved mimebundle to data attribute of output\n",
       "                    data = data.data;\n",
       "                }\n",
       "                if (data['text/html'] == html_output) {\n",
       "                    return [cell, data, j];\n",
       "                }\n",
       "            }\n",
       "        }\n",
       "    }\n",
       "}\n",
       "\n",
       "// Register the function which deals with the matplotlib target/channel.\n",
       "// The kernel may be null if the page has been refreshed.\n",
       "if (IPython.notebook.kernel != null) {\n",
       "    IPython.notebook.kernel.comm_manager.register_target('matplotlib', mpl.mpl_figure_comm);\n",
       "}\n"
      ],
      "text/plain": [
       "<IPython.core.display.Javascript object>"
      ]
     },
     "metadata": {},
     "output_type": "display_data"
    },
    {
     "data": {
      "text/html": [
       "<img src=\"data:image/png;base64,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\" width=\"640\">"
      ],
      "text/plain": [
       "<IPython.core.display.HTML object>"
      ]
     },
     "metadata": {},
     "output_type": "display_data"
    },
    {
     "data": {
      "text/plain": [
       "(0, 500)"
      ]
     },
     "execution_count": 313,
     "metadata": {},
     "output_type": "execute_result"
    }
   ],
   "source": [
    "%matplotlib notebook\n",
    "import matplotlib.pyplot as plt\n",
    "\n",
    "fig, ax = plt.subplots()\n",
    "\n",
    "ax.plot(dist[-1])\n",
    "ax.set_xlim((0, 500))"
   ]
  },
  {
   "cell_type": "code",
   "execution_count": 295,
   "metadata": {},
   "outputs": [
    {
     "data": {
      "text/plain": [
       "[mpf('1.0'),\n",
       " mpf('1.0'),\n",
       " mpf('1.0'),\n",
       " mpf('1.0'),\n",
       " mpf('1.0'),\n",
       " mpf('1.0'),\n",
       " mpf('1.0'),\n",
       " mpf('1.0'),\n",
       " mpf('1.0'),\n",
       " mpf('1.0'),\n",
       " mpf('1.0'),\n",
       " mpf('1.0'),\n",
       " mpf('1.0'),\n",
       " mpf('1.0'),\n",
       " mpf('1.0'),\n",
       " mpf('1.0'),\n",
       " mpf('1.0'),\n",
       " mpf('1.0'),\n",
       " mpf('1.0')]"
      ]
     },
     "execution_count": 295,
     "metadata": {},
     "output_type": "execute_result"
    }
   ],
   "source": [
    "[mp.fsum(d) for d in dist]"
   ]
  },
  {
   "cell_type": "code",
   "execution_count": 310,
   "metadata": {},
   "outputs": [
    {
     "data": {
      "text/plain": [
       "[1,\n",
       " 2,\n",
       " 3,\n",
       " 5,\n",
       " 8,\n",
       " 12,\n",
       " 18,\n",
       " 27,\n",
       " 41,\n",
       " 62,\n",
       " 93,\n",
       " 140,\n",
       " 210,\n",
       " 315,\n",
       " 473,\n",
       " 710,\n",
       " 1065,\n",
       " 1598,\n",
       " 2397,\n",
       " 3596,\n",
       " 5394]"
      ]
     },
     "execution_count": 310,
     "metadata": {},
     "output_type": "execute_result"
    }
   ],
   "source": [
    "[len(d) - 2 for d in dist]"
   ]
  },
  {
   "cell_type": "markdown",
   "metadata": {},
   "source": [
    "\\begin{align*}\n",
    "   E[2^n] &= \\frac{E[2^{n-1}] + E[3^{n-1}]}{2}\\\\\n",
    "   2 E[2^n] &= E[2^{n-1}] + E[3^{n-1}] \\\\\n",
    "   E[3^{n-1}] &= 2 E[2^n] - E[2^{n-1}] \\\\\n",
    "   E[3^{n-1}] &= 2 E[2^n] - E[2^{n-1}] \\\\\n",
    "   E[3^{n-1}] &= 2 (2 \\cdot 1.25^{n-1} + 0.5) \n",
    "                 - (2 \\cdot 1.25^{n-2} + 0.5) \\\\\n",
    "   E[3^{n-1}] &= 4 \\cdot 1.25^{n-1} - 2 \\cdot 1.25^{n-2} + 0.5 \\\\\n",
    "   E[3^{n}] &= 4 \\cdot 1.25^{n} - 2 \\cdot 1.25^{n-1} + 0.5 \\\\\n",
    "\\end{align*}\n",
    "\n",
    "For $N=n+1,$\n",
    "\n",
    "\\begin{align*}\n",
    "   E[2^{n+1}] \n",
    "      &= \\frac{E[2^{n}] + E[3^{n}]}{2} \\\\\n",
    "      &= \\frac{2 \\cdot 1.25^{n-1} + 0.5 \n",
    "                + 4 \\cdot 1.25^{n} - 2 \\cdot 1.25^{n-1} + 0.5}\n",
    "              {2} \\\\\n",
    "      &= 1.25^{n-1} + 2 \\cdot 1.25^{n} - 1.25^{n-1} + 0.5  \\\\\n",
    "      &= 2 \\cdot 1.25^{n} + 0.5  \\\\\n",
    "\\end{align*}"
   ]
  },
  {
   "cell_type": "code",
   "execution_count": 337,
   "metadata": {},
   "outputs": [
    {
     "data": {
      "text/plain": [
       "[3.5, 4.25, 5.1875, 6.359375, 7.82421875]"
      ]
     },
     "execution_count": 337,
     "metadata": {},
     "output_type": "execute_result"
    }
   ],
   "source": [
    "[4 * 1.25**n - 2 * 1.25**(n-1) + 0.5 for n in range(1,6)]"
   ]
  },
  {
   "cell_type": "code",
   "execution_count": 336,
   "metadata": {},
   "outputs": [
    {
     "data": {
      "text/plain": [
       "array([mpf('3.0'), mpf('3.5'), mpf('4.25'), mpf('5.1875'),\n",
       "       mpf('6.359375'), mpf('7.82421875')], dtype=object)"
      ]
     },
     "execution_count": 336,
     "metadata": {},
     "output_type": "execute_result"
    }
   ],
   "source": [
    "power(3, 5)[1]"
   ]
  },
  {
   "cell_type": "code",
   "execution_count": null,
   "metadata": {},
   "outputs": [],
   "source": []
  }
 ],
 "metadata": {
  "kernelspec": {
   "display_name": "Python 3",
   "language": "python",
   "name": "python3"
  },
  "language_info": {
   "codemirror_mode": {
    "name": "ipython",
    "version": 3
   },
   "file_extension": ".py",
   "mimetype": "text/x-python",
   "name": "python",
   "nbconvert_exporter": "python",
   "pygments_lexer": "ipython3",
   "version": "3.7.6"
  }
 },
 "nbformat": 4,
 "nbformat_minor": 4
}
